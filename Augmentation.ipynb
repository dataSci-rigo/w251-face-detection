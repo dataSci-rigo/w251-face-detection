{
  "nbformat": 4,
  "nbformat_minor": 0,
  "metadata": {
    "colab": {
      "name": "Augmentation.ipynb",
      "version": "0.3.2",
      "provenance": [],
      "include_colab_link": true
    },
    "kernelspec": {
      "name": "python3",
      "display_name": "Python 3"
    }
  },
  "cells": [
    {
      "cell_type": "markdown",
      "metadata": {
        "id": "view-in-github",
        "colab_type": "text"
      },
      "source": [
        "<a href=\"https://colab.research.google.com/github/rmajumder/w251-face-detection/blob/master/Augmentation.ipynb\" target=\"_parent\"><img src=\"https://colab.research.google.com/assets/colab-badge.svg\" alt=\"Open In Colab\"/></a>"
      ]
    },
    {
      "cell_type": "code",
      "metadata": {
        "id": "-_9UTOscK2Xq",
        "colab_type": "code",
        "colab": {}
      },
      "source": [
        "import tensorflow as tf\n",
        "import matplotlib.image as mpimg\n",
        "import numpy as np\n",
        "from PIL import Image\n",
        "import matplotlib\n",
        "import matplotlib.pyplot as plt\n",
        "import matplotlib.image as mpimg"
      ],
      "execution_count": 0,
      "outputs": []
    },
    {
      "cell_type": "code",
      "metadata": {
        "id": "wOHX1bx3hLXF",
        "colab_type": "code",
        "outputId": "f38aeb3d-dc73-4c77-f94f-2a4794e9f481",
        "colab": {
          "base_uri": "https://localhost:8080/",
          "height": 122
        }
      },
      "source": [
        "from google.colab import drive\n",
        "drive.mount('/content/drive')"
      ],
      "execution_count": 2,
      "outputs": [
        {
          "output_type": "stream",
          "text": [
            "Go to this URL in a browser: https://accounts.google.com/o/oauth2/auth?client_id=947318989803-6bn6qk8qdgf4n4g3pfee6491hc0brc4i.apps.googleusercontent.com&redirect_uri=urn%3Aietf%3Awg%3Aoauth%3A2.0%3Aoob&scope=email%20https%3A%2F%2Fwww.googleapis.com%2Fauth%2Fdocs.test%20https%3A%2F%2Fwww.googleapis.com%2Fauth%2Fdrive%20https%3A%2F%2Fwww.googleapis.com%2Fauth%2Fdrive.photos.readonly%20https%3A%2F%2Fwww.googleapis.com%2Fauth%2Fpeopleapi.readonly&response_type=code\n",
            "\n",
            "Enter your authorization code:\n",
            "··········\n",
            "Mounted at /content/drive\n"
          ],
          "name": "stdout"
        }
      ]
    },
    {
      "cell_type": "code",
      "metadata": {
        "id": "ayHZDeESUztM",
        "colab_type": "code",
        "colab": {}
      },
      "source": [
        "def tf_resize_images(X_img_file_paths, img_size):\n",
        "    X_data = []\n",
        "    tf.reset_default_graph()\n",
        "    X = tf.placeholder(tf.float32, (None, None, 3))\n",
        "    tf_img = tf.image.resize_images(X, (img_size, img_size), \n",
        "                                    tf.image.ResizeMethod.NEAREST_NEIGHBOR)\n",
        "    with tf.Session() as sess:\n",
        "        sess.run(tf.global_variables_initializer())\n",
        "        \n",
        "        # Each image is resized individually as different image may be of different size.\n",
        "        for index, file_path in enumerate(X_img_file_paths):\n",
        "            img = mpimg.imread(file_path) # Do not read alpha channel.\n",
        "            resized_img = sess.run(tf_img, feed_dict = {X: img})\n",
        "            \n",
        "            X_data.append(resized_img)\n",
        "\n",
        "    X_data = np.array(X_data, dtype = np.float32) # Convert to numpy\n",
        "    return X_data"
      ],
      "execution_count": 0,
      "outputs": []
    },
    {
      "cell_type": "code",
      "metadata": {
        "id": "4jSxggbbRbSL",
        "colab_type": "code",
        "colab": {}
      },
      "source": [
        "def central_scale_images(X_imgs, scales, img_size):\n",
        "    # Various settings needed for Tensorflow operation\n",
        "    boxes = np.zeros((len(scales), 4), dtype = np.float32)\n",
        "    for index, scale in enumerate(scales):\n",
        "        x1 = y1 = 0.5 - 0.5 * scale # To scale centrally\n",
        "        x2 = y2 = 0.5 + 0.5 * scale\n",
        "        boxes[index] = np.array([y1, x1, y2, x2], dtype = np.float32)\n",
        "    box_ind = np.zeros((len(scales)), dtype = np.int32)\n",
        "    crop_size = np.array([img_size, img_size], dtype = np.int32)\n",
        "    \n",
        "    X_scale_data = []\n",
        "    tf.reset_default_graph()\n",
        "    X = tf.placeholder(tf.float32, shape = (1, img_size, img_size, 3))\n",
        "    # Define Tensorflow operation for all scales but only one base image at a time\n",
        "    tf_img = tf.image.crop_and_resize(X, boxes, box_ind, crop_size)\n",
        "    with tf.Session() as sess:\n",
        "        sess.run(tf.global_variables_initializer())\n",
        "        \n",
        "        for img_data in X_imgs:\n",
        "            batch_img = np.expand_dims(img_data, axis = 0)\n",
        "            scaled_imgs = sess.run(tf_img, feed_dict = {X: batch_img})\n",
        "            X_scale_data.extend(scaled_imgs)\n",
        "    \n",
        "    X_scale_data = np.array(X_scale_data, dtype = np.float32)\n",
        "    return X_scale_data\n",
        "\t\n"
      ],
      "execution_count": 0,
      "outputs": []
    },
    {
      "cell_type": "code",
      "metadata": {
        "id": "b7uddsxXV0op",
        "colab_type": "code",
        "colab": {}
      },
      "source": [
        "def add_salt_pepper_noise(X_imgs):\n",
        "    # Need to produce a copy as to not modify the original image\n",
        "    X_imgs_copy = X_imgs.copy()\n",
        "    row, col, _ = X_imgs_copy[0].shape\n",
        "    salt_vs_pepper = 0.2\n",
        "    amount = 0.004\n",
        "    num_salt = np.ceil(amount * X_imgs_copy[0].size * salt_vs_pepper)\n",
        "    num_pepper = np.ceil(amount * X_imgs_copy[0].size * (1.0 - salt_vs_pepper))\n",
        "    \n",
        "    for X_img in X_imgs_copy:\n",
        "        # Add Salt noise\n",
        "        coords = [np.random.randint(0, i - 1, int(num_salt)) for i in X_img.shape]\n",
        "        X_img[coords[0], coords[1], :] = 1\n",
        "\n",
        "        # Add Pepper noise\n",
        "        coords = [np.random.randint(0, i - 1, int(num_pepper)) for i in X_img.shape]\n",
        "        X_img[coords[0], coords[1], :] = 0\n",
        "    return X_imgs_copy"
      ],
      "execution_count": 0,
      "outputs": []
    },
    {
      "cell_type": "code",
      "metadata": {
        "id": "BtoE7Ca7WRA_",
        "colab_type": "code",
        "colab": {}
      },
      "source": [
        "import cv2\n",
        "\n",
        "def add_gaussian_noise(X_imgs):\n",
        "    gaussian_noise_imgs = []\n",
        "    row, col, _ = X_imgs[0].shape\n",
        "    # Gaussian distribution parameters\n",
        "    mean = 0\n",
        "    var = 0.1\n",
        "    sigma = var ** 0.5\n",
        "    \n",
        "    for X_img in X_imgs:\n",
        "        gaussian = np.random.random((row, col, 1)).astype(np.float32)\n",
        "        gaussian = np.concatenate((gaussian, gaussian, gaussian), axis = 2)\n",
        "        gaussian_img = cv2.addWeighted(X_img, 0.75, 0.25 * gaussian, 0.25, 0)\n",
        "        gaussian_noise_imgs.append(gaussian_img)\n",
        "    gaussian_noise_imgs = np.array(gaussian_noise_imgs, dtype = np.float32)\n",
        "    \n",
        "    return gaussian_noise_imgs\n"
      ],
      "execution_count": 0,
      "outputs": []
    },
    {
      "cell_type": "code",
      "metadata": {
        "id": "CK0q3xXpXLZW",
        "colab_type": "code",
        "colab": {}
      },
      "source": [
        "def get_mask_coord(imshape):\n",
        "    vertices = np.array([[(0.09 * imshape[1], 0.99 * imshape[0]), \n",
        "                          (0.43 * imshape[1], 0.32 * imshape[0]), \n",
        "                          (0.56 * imshape[1], 0.32 * imshape[0]),\n",
        "                          (0.85 * imshape[1], 0.99 * imshape[0])]], dtype = np.int32)\n",
        "    return vertices\n",
        "\n",
        "def get_perspective_matrices(X_img):\n",
        "    offset = 15\n",
        "    img_size = (X_img.shape[1], X_img.shape[0])\n",
        "\n",
        "    # Estimate the coordinates of object of interest inside the image.\n",
        "    src = np.float32(get_mask_coord(X_img.shape))\n",
        "    dst = np.float32([[offset, img_size[1]], [offset, 0], [img_size[0] - offset, 0], \n",
        "                      [img_size[0] - offset, img_size[1]]])\n",
        "    \n",
        "    perspective_matrix = cv2.getPerspectiveTransform(src, dst)\n",
        "    return perspective_matrix\n",
        "\n",
        "def perspective_transform(X_img):\n",
        "    # Doing only for one type of example\n",
        "    perspective_matrix = get_perspective_matrices(X_img)\n",
        "    warped_img = cv2.warpPerspective(X_img, perspective_matrix,\n",
        "                                     (X_img.shape[1], X_img.shape[0]),\n",
        "                                     flags = cv2.INTER_LINEAR)\n",
        "    return warped_img"
      ],
      "execution_count": 0,
      "outputs": []
    },
    {
      "cell_type": "code",
      "metadata": {
        "id": "6ec2YUwUVFxm",
        "colab_type": "code",
        "colab": {}
      },
      "source": [
        "\n",
        "img_path = '/content/drive/My Drive/w251-project/rishi.png'\n",
        "\n",
        "#Resize & Resize\n",
        "sizes = [60, 120, 240]\n",
        "scales = [0.90, 0.75, 0.60]\n",
        "\n",
        "for sz, sc in zip(sizes, scales):\n",
        "  img_data = tf_resize_images([img_path], sz)\n",
        "  \n",
        "  scaled_imgs = central_scale_images(img_data, [sc], sz)\n",
        "  \n",
        "  with_sp = add_salt_pepper_noise(scaled_imgs)\n",
        "  \n",
        "  with_shade = add_gaussian_noise(with_sp)\n",
        "  \n",
        "  img_name = 'rishi-' + str(sz) + '.png'\n",
        "  mpimg.imsave('/content/drive/My Drive/w251-project/' + img_name, \n",
        "             with_shade[0].astype('float32'), vmin=0, vmax=255)"
      ],
      "execution_count": 0,
      "outputs": []
    },
    {
      "cell_type": "code",
      "metadata": {
        "id": "K6XSMhFgWRi_",
        "colab_type": "code",
        "colab": {}
      },
      "source": [
        ""
      ],
      "execution_count": 0,
      "outputs": []
    }
  ]
}